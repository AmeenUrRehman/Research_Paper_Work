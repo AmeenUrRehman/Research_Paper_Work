{
 "cells": [
  {
   "cell_type": "markdown",
   "id": "3b8e2d7a",
   "metadata": {},
   "source": [
    "#### Development of multitask sequence labeling model for two tasks, where \n",
    " - Task 1 is word-level sequence labeling.\n",
    " - Task 2 is sentence-level labeling. Prepare a model in Keras that performs both word and sentence-level  labeling simultaneously."
   ]
  },
  {
   "cell_type": "markdown",
   "id": "d2ffa5e0",
   "metadata": {},
   "source": [
    "### Creating a Datasets"
   ]
  },
  {
   "cell_type": "code",
   "execution_count": 103,
   "id": "7cb205d5",
   "metadata": {},
   "outputs": [],
   "source": [
    "import numpy as np\n",
    "from tensorflow.keras.preprocessing.sequence import pad_sequences\n",
    "from keras.utils import to_categorical\n",
    "\n",
    "# Toy dataset for word-level NER task\n",
    "sentences = [\n",
    "    \"John lives in New York.\",\n",
    "    \"Apple is a company based in California.\",\n",
    "    \"I love my dog.\",\n",
    "    \"The Eiffel Tower is in Paris.\"\n",
    "]\n",
    "\n",
    "ner_labels = [\n",
    "    [\"B-PER\", \"O\", \"O\", \"B-LOC\", \"B-LOC\"],\n",
    "    [\"B-ORG\", \"O\", \"O\", \"O\", \"O\", \"O\", \"B-LOC\"],\n",
    "    [\"O\", \"O\", \"O\", \"O\"],\n",
    "    [\"O\", \"B-LOC\", \"O\", \"O\", \"O\", \"B-LOC\"]\n",
    "]\n",
    "\n",
    "# Sentiment labels (0: Negative, 1: Neutral, 2: Positive)\n",
    "sentiment_labels = [2, 1, 2, 2]"
   ]
  },
  {
   "cell_type": "markdown",
   "id": "63842e75",
   "metadata": {},
   "source": [
    "### Process Data"
   ]
  },
  {
   "cell_type": "code",
   "execution_count": 104,
   "id": "b92d38b6",
   "metadata": {},
   "outputs": [],
   "source": [
    "# Create vocabulary and label sets\n",
    "vocab = set(word for sentence in sentences for word in sentence.split())\n",
    "ner_tags = set(tag for tags in ner_labels for tag in tags)\n",
    "num_classes_ner = len(ner_tags)\n",
    "num_classes_sentiment = 3  # Negative, Neutral, Positive\n",
    "\n",
    "# Create word and label dictionaries\n",
    "word2idx = {word: idx + 1 for idx, word in enumerate(vocab)}\n",
    "ner2idx = {tag: idx for idx, tag in enumerate(ner_tags)}\n",
    "\n",
    "# Convert sentences to numerical sequences and labels to numerical sequences\n",
    "X_word = [[word2idx[word] for word in sentence.split()] for sentence in sentences]\n",
    "y_ner = [[ner2idx[tag] for tag in tags] for tags in ner_labels]\n",
    "\n",
    "# Pad sequences\n",
    "max_sequence_length = max(len(seq) for seq in X_word)\n",
    "X_word = pad_sequences(X_word, maxlen=max_sequence_length, padding='post')\n",
    "y_ner = pad_sequences(y_ner, maxlen=max_sequence_length, padding='post')\n",
    "\n",
    "# Convert NER labels to one-hot encoded format\n",
    "y_ner = np.array([to_categorical(seq, num_classes=num_classes_ner) for seq in y_ner])\n",
    "y_sentiment = to_categorical(sentiment_labels, num_classes=num_classes_sentiment)"
   ]
  },
  {
   "cell_type": "markdown",
   "id": "aa778631",
   "metadata": {},
   "source": [
    "### Building Model"
   ]
  },
  {
   "cell_type": "code",
   "execution_count": 105,
   "id": "3b3f73cc",
   "metadata": {},
   "outputs": [
    {
     "name": "stdout",
     "output_type": "stream",
     "text": [
      "Model summary:\n",
      "Model: \"model_11\"\n",
      "__________________________________________________________________________________________________\n",
      " Layer (type)                   Output Shape         Param #     Connected to                     \n",
      "==================================================================================================\n",
      " input_21 (InputLayer)          [(None, 7)]          0           []                               \n",
      "                                                                                                  \n",
      " embedding_15 (Embedding)       (None, 7, 50)        1000        ['input_21[0][0]']               \n",
      "                                                                                                  \n",
      " lstm_23 (LSTM)                 (None, 7, 64)        29440       ['embedding_15[0][0]']           \n",
      "                                                                                                  \n",
      " lstm_24 (LSTM)                 (None, 64)           33024       ['lstm_23[0][0]']                \n",
      "                                                                                                  \n",
      " time_distributed_12 (TimeDistr  (None, 7, 4)        260         ['lstm_23[0][0]']                \n",
      " ibuted)                                                                                          \n",
      "                                                                                                  \n",
      " dense_23 (Dense)               (None, 3)            195         ['lstm_24[0][0]']                \n",
      "                                                                                                  \n",
      "==================================================================================================\n",
      "Total params: 63,919\n",
      "Trainable params: 63,919\n",
      "Non-trainable params: 0\n",
      "__________________________________________________________________________________________________\n"
     ]
    }
   ],
   "source": [
    "from keras.layers import Input, Embedding, LSTM, Dense, TimeDistributed, GlobalMaxPooling1D\n",
    "from keras.models import Model\n",
    "\n",
    "# Input layer\n",
    "word_input = Input(shape=(max_sequence_length,))\n",
    "\n",
    "# Shared embedding layer\n",
    "embedding_dim = 50\n",
    "embedding_layer = Embedding(input_dim=len(vocab) + 1, output_dim=embedding_dim, input_length=max_sequence_length)\n",
    "word_embed = embedding_layer(word_input)\n",
    "\n",
    "# Shared LSTM layer\n",
    "lstm_units = 64\n",
    "lstm_layer = LSTM(lstm_units, return_sequences=True)\n",
    "word_lstm = lstm_layer(word_embed)\n",
    "\n",
    "# Word-level NER output\n",
    "ner_output = TimeDistributed(Dense(num_classes_ner, activation='softmax'))(word_lstm)\n",
    "\n",
    "# Sentence-level Sentiment output\n",
    "sentence_lstm = LSTM(lstm_units)(word_lstm)\n",
    "sentiment_output = Dense(num_classes_sentiment, activation='softmax')(sentence_lstm)\n",
    "\n",
    "# Create the multitask model\n",
    "model = Model(inputs=word_input, outputs=[ner_output, sentiment_output])\n",
    "\n",
    "model.compile(optimizer='adam', loss='categorical_crossentropy', metrics=['accuracy'])\n",
    "\n",
    "print(\"Model summary:\")\n",
    "model.summary()\n"
   ]
  },
  {
   "cell_type": "code",
   "execution_count": 119,
   "id": "5d95ac7a",
   "metadata": {},
   "outputs": [
    {
     "name": "stdout",
     "output_type": "stream",
     "text": [
      "Epoch 1/90\n",
      "2/2 [==============================] - 0s 40ms/step - loss: 0.1077 - time_distributed_12_loss: 0.1076 - dense_23_loss: 3.7073e-05 - time_distributed_12_accuracy: 0.9643 - dense_23_accuracy: 1.0000\n",
      "Epoch 2/90\n",
      "2/2 [==============================] - 0s 24ms/step - loss: 0.1056 - time_distributed_12_loss: 0.1056 - dense_23_loss: 3.7043e-05 - time_distributed_12_accuracy: 0.9643 - dense_23_accuracy: 1.0000\n",
      "Epoch 3/90\n",
      "2/2 [==============================] - 0s 24ms/step - loss: 0.1039 - time_distributed_12_loss: 0.1039 - dense_23_loss: 3.6804e-05 - time_distributed_12_accuracy: 0.9643 - dense_23_accuracy: 1.0000\n",
      "Epoch 4/90\n",
      "2/2 [==============================] - 0s 32ms/step - loss: 0.1020 - time_distributed_12_loss: 0.1020 - dense_23_loss: 3.6387e-05 - time_distributed_12_accuracy: 0.9643 - dense_23_accuracy: 1.0000\n",
      "Epoch 5/90\n",
      "2/2 [==============================] - 0s 32ms/step - loss: 0.1004 - time_distributed_12_loss: 0.1004 - dense_23_loss: 3.6059e-05 - time_distributed_12_accuracy: 0.9643 - dense_23_accuracy: 1.0000\n",
      "Epoch 6/90\n",
      "2/2 [==============================] - 0s 32ms/step - loss: 0.0983 - time_distributed_12_loss: 0.0982 - dense_23_loss: 3.5702e-05 - time_distributed_12_accuracy: 0.9643 - dense_23_accuracy: 1.0000\n",
      "Epoch 7/90\n",
      "2/2 [==============================] - 0s 24ms/step - loss: 0.0964 - time_distributed_12_loss: 0.0964 - dense_23_loss: 3.5523e-05 - time_distributed_12_accuracy: 0.9643 - dense_23_accuracy: 1.0000\n",
      "Epoch 8/90\n",
      "2/2 [==============================] - 0s 32ms/step - loss: 0.0947 - time_distributed_12_loss: 0.0946 - dense_23_loss: 3.5314e-05 - time_distributed_12_accuracy: 0.9643 - dense_23_accuracy: 1.0000\n",
      "Epoch 9/90\n",
      "2/2 [==============================] - 0s 32ms/step - loss: 0.0931 - time_distributed_12_loss: 0.0931 - dense_23_loss: 3.5195e-05 - time_distributed_12_accuracy: 0.9643 - dense_23_accuracy: 1.0000\n",
      "Epoch 10/90\n",
      "2/2 [==============================] - 0s 32ms/step - loss: 0.0912 - time_distributed_12_loss: 0.0912 - dense_23_loss: 3.4808e-05 - time_distributed_12_accuracy: 0.9643 - dense_23_accuracy: 1.0000\n",
      "Epoch 11/90\n",
      "2/2 [==============================] - 0s 33ms/step - loss: 0.0897 - time_distributed_12_loss: 0.0896 - dense_23_loss: 3.4629e-05 - time_distributed_12_accuracy: 0.9643 - dense_23_accuracy: 1.0000\n",
      "Epoch 12/90\n",
      "2/2 [==============================] - 0s 23ms/step - loss: 0.0880 - time_distributed_12_loss: 0.0879 - dense_23_loss: 3.4420e-05 - time_distributed_12_accuracy: 0.9643 - dense_23_accuracy: 1.0000\n",
      "Epoch 13/90\n",
      "2/2 [==============================] - 0s 27ms/step - loss: 0.0862 - time_distributed_12_loss: 0.0862 - dense_23_loss: 3.4152e-05 - time_distributed_12_accuracy: 0.9643 - dense_23_accuracy: 1.0000\n",
      "Epoch 14/90\n",
      "2/2 [==============================] - 0s 32ms/step - loss: 0.0847 - time_distributed_12_loss: 0.0847 - dense_23_loss: 3.4003e-05 - time_distributed_12_accuracy: 0.9643 - dense_23_accuracy: 1.0000\n",
      "Epoch 15/90\n",
      "2/2 [==============================] - 0s 32ms/step - loss: 0.0829 - time_distributed_12_loss: 0.0828 - dense_23_loss: 3.3705e-05 - time_distributed_12_accuracy: 0.9643 - dense_23_accuracy: 1.0000\n",
      "Epoch 16/90\n",
      "2/2 [==============================] - 0s 24ms/step - loss: 0.0818 - time_distributed_12_loss: 0.0818 - dense_23_loss: 3.3258e-05 - time_distributed_12_accuracy: 0.9643 - dense_23_accuracy: 1.0000\n",
      "Epoch 17/90\n",
      "2/2 [==============================] - 0s 32ms/step - loss: 0.0800 - time_distributed_12_loss: 0.0800 - dense_23_loss: 3.3020e-05 - time_distributed_12_accuracy: 0.9643 - dense_23_accuracy: 1.0000\n",
      "Epoch 18/90\n",
      "2/2 [==============================] - 0s 24ms/step - loss: 0.0785 - time_distributed_12_loss: 0.0785 - dense_23_loss: 3.2752e-05 - time_distributed_12_accuracy: 0.9643 - dense_23_accuracy: 1.0000\n",
      "Epoch 19/90\n",
      "2/2 [==============================] - 0s 25ms/step - loss: 0.0772 - time_distributed_12_loss: 0.0772 - dense_23_loss: 3.2513e-05 - time_distributed_12_accuracy: 0.9643 - dense_23_accuracy: 1.0000\n",
      "Epoch 20/90\n",
      "2/2 [==============================] - 0s 22ms/step - loss: 0.0757 - time_distributed_12_loss: 0.0757 - dense_23_loss: 3.2305e-05 - time_distributed_12_accuracy: 0.9643 - dense_23_accuracy: 1.0000\n",
      "Epoch 21/90\n",
      "2/2 [==============================] - 0s 16ms/step - loss: 0.0742 - time_distributed_12_loss: 0.0741 - dense_23_loss: 3.2066e-05 - time_distributed_12_accuracy: 0.9643 - dense_23_accuracy: 1.0000\n",
      "Epoch 22/90\n",
      "2/2 [==============================] - 0s 16ms/step - loss: 0.0729 - time_distributed_12_loss: 0.0728 - dense_23_loss: 3.1828e-05 - time_distributed_12_accuracy: 0.9643 - dense_23_accuracy: 1.0000\n",
      "Epoch 23/90\n",
      "2/2 [==============================] - 0s 24ms/step - loss: 0.0718 - time_distributed_12_loss: 0.0718 - dense_23_loss: 3.1589e-05 - time_distributed_12_accuracy: 0.9643 - dense_23_accuracy: 1.0000\n",
      "Epoch 24/90\n",
      "2/2 [==============================] - 0s 24ms/step - loss: 0.0704 - time_distributed_12_loss: 0.0704 - dense_23_loss: 3.1291e-05 - time_distributed_12_accuracy: 0.9643 - dense_23_accuracy: 1.0000\n",
      "Epoch 25/90\n",
      "2/2 [==============================] - 0s 29ms/step - loss: 0.0691 - time_distributed_12_loss: 0.0690 - dense_23_loss: 3.1023e-05 - time_distributed_12_accuracy: 1.0000 - dense_23_accuracy: 1.0000\n",
      "Epoch 26/90\n",
      "2/2 [==============================] - 0s 24ms/step - loss: 0.0680 - time_distributed_12_loss: 0.0679 - dense_23_loss: 3.0844e-05 - time_distributed_12_accuracy: 1.0000 - dense_23_accuracy: 1.0000\n",
      "Epoch 27/90\n",
      "2/2 [==============================] - 0s 25ms/step - loss: 0.0666 - time_distributed_12_loss: 0.0666 - dense_23_loss: 3.0517e-05 - time_distributed_12_accuracy: 1.0000 - dense_23_accuracy: 1.0000\n",
      "Epoch 28/90\n",
      "2/2 [==============================] - 0s 24ms/step - loss: 0.0656 - time_distributed_12_loss: 0.0656 - dense_23_loss: 3.0308e-05 - time_distributed_12_accuracy: 1.0000 - dense_23_accuracy: 1.0000\n",
      "Epoch 29/90\n",
      "2/2 [==============================] - 0s 25ms/step - loss: 0.0645 - time_distributed_12_loss: 0.0645 - dense_23_loss: 2.9861e-05 - time_distributed_12_accuracy: 1.0000 - dense_23_accuracy: 1.0000\n",
      "Epoch 30/90\n",
      "2/2 [==============================] - 0s 32ms/step - loss: 0.0635 - time_distributed_12_loss: 0.0635 - dense_23_loss: 2.9682e-05 - time_distributed_12_accuracy: 1.0000 - dense_23_accuracy: 1.0000\n",
      "Epoch 31/90\n",
      "2/2 [==============================] - 0s 32ms/step - loss: 0.0623 - time_distributed_12_loss: 0.0623 - dense_23_loss: 2.9444e-05 - time_distributed_12_accuracy: 1.0000 - dense_23_accuracy: 1.0000\n",
      "Epoch 32/90\n",
      "2/2 [==============================] - 0s 32ms/step - loss: 0.0611 - time_distributed_12_loss: 0.0611 - dense_23_loss: 2.9146e-05 - time_distributed_12_accuracy: 1.0000 - dense_23_accuracy: 1.0000\n",
      "Epoch 33/90\n",
      "2/2 [==============================] - 0s 24ms/step - loss: 0.0604 - time_distributed_12_loss: 0.0603 - dense_23_loss: 2.8848e-05 - time_distributed_12_accuracy: 1.0000 - dense_23_accuracy: 1.0000\n",
      "Epoch 34/90\n",
      "2/2 [==============================] - 0s 24ms/step - loss: 0.0593 - time_distributed_12_loss: 0.0593 - dense_23_loss: 2.8550e-05 - time_distributed_12_accuracy: 1.0000 - dense_23_accuracy: 1.0000\n",
      "Epoch 35/90\n",
      "2/2 [==============================] - 0s 24ms/step - loss: 0.0582 - time_distributed_12_loss: 0.0582 - dense_23_loss: 2.8341e-05 - time_distributed_12_accuracy: 1.0000 - dense_23_accuracy: 1.0000\n",
      "Epoch 36/90\n",
      "2/2 [==============================] - 0s 24ms/step - loss: 0.0574 - time_distributed_12_loss: 0.0574 - dense_23_loss: 2.8043e-05 - time_distributed_12_accuracy: 1.0000 - dense_23_accuracy: 1.0000\n",
      "Epoch 37/90\n",
      "2/2 [==============================] - 0s 24ms/step - loss: 0.0565 - time_distributed_12_loss: 0.0565 - dense_23_loss: 2.7775e-05 - time_distributed_12_accuracy: 1.0000 - dense_23_accuracy: 1.0000\n",
      "Epoch 38/90\n",
      "2/2 [==============================] - 0s 24ms/step - loss: 0.0556 - time_distributed_12_loss: 0.0555 - dense_23_loss: 2.7596e-05 - time_distributed_12_accuracy: 1.0000 - dense_23_accuracy: 1.0000\n",
      "Epoch 39/90\n",
      "2/2 [==============================] - 0s 32ms/step - loss: 0.0547 - time_distributed_12_loss: 0.0547 - dense_23_loss: 2.7268e-05 - time_distributed_12_accuracy: 1.0000 - dense_23_accuracy: 1.0000\n",
      "Epoch 40/90\n"
     ]
    },
    {
     "name": "stdout",
     "output_type": "stream",
     "text": [
      "2/2 [==============================] - 0s 32ms/step - loss: 0.0537 - time_distributed_12_loss: 0.0537 - dense_23_loss: 2.7000e-05 - time_distributed_12_accuracy: 1.0000 - dense_23_accuracy: 1.0000\n",
      "Epoch 41/90\n",
      "2/2 [==============================] - 0s 24ms/step - loss: 0.0530 - time_distributed_12_loss: 0.0530 - dense_23_loss: 2.6762e-05 - time_distributed_12_accuracy: 1.0000 - dense_23_accuracy: 1.0000\n",
      "Epoch 42/90\n",
      "2/2 [==============================] - 0s 24ms/step - loss: 0.0523 - time_distributed_12_loss: 0.0523 - dense_23_loss: 2.6523e-05 - time_distributed_12_accuracy: 1.0000 - dense_23_accuracy: 1.0000\n",
      "Epoch 43/90\n",
      "2/2 [==============================] - 0s 32ms/step - loss: 0.0515 - time_distributed_12_loss: 0.0514 - dense_23_loss: 2.6225e-05 - time_distributed_12_accuracy: 1.0000 - dense_23_accuracy: 1.0000\n",
      "Epoch 44/90\n",
      "2/2 [==============================] - 0s 49ms/step - loss: 0.0508 - time_distributed_12_loss: 0.0507 - dense_23_loss: 2.6106e-05 - time_distributed_12_accuracy: 1.0000 - dense_23_accuracy: 1.0000\n",
      "Epoch 45/90\n",
      "2/2 [==============================] - 0s 40ms/step - loss: 0.0500 - time_distributed_12_loss: 0.0499 - dense_23_loss: 2.5778e-05 - time_distributed_12_accuracy: 1.0000 - dense_23_accuracy: 1.0000\n",
      "Epoch 46/90\n",
      "2/2 [==============================] - 0s 38ms/step - loss: 0.0493 - time_distributed_12_loss: 0.0493 - dense_23_loss: 2.5600e-05 - time_distributed_12_accuracy: 1.0000 - dense_23_accuracy: 1.0000\n",
      "Epoch 47/90\n",
      "2/2 [==============================] - 0s 40ms/step - loss: 0.0486 - time_distributed_12_loss: 0.0486 - dense_23_loss: 2.5451e-05 - time_distributed_12_accuracy: 1.0000 - dense_23_accuracy: 1.0000\n",
      "Epoch 48/90\n",
      "2/2 [==============================] - 0s 40ms/step - loss: 0.0479 - time_distributed_12_loss: 0.0479 - dense_23_loss: 2.5153e-05 - time_distributed_12_accuracy: 1.0000 - dense_23_accuracy: 1.0000\n",
      "Epoch 49/90\n",
      "2/2 [==============================] - 0s 32ms/step - loss: 0.0472 - time_distributed_12_loss: 0.0472 - dense_23_loss: 2.4974e-05 - time_distributed_12_accuracy: 1.0000 - dense_23_accuracy: 1.0000\n",
      "Epoch 50/90\n",
      "2/2 [==============================] - 0s 40ms/step - loss: 0.0467 - time_distributed_12_loss: 0.0466 - dense_23_loss: 2.4705e-05 - time_distributed_12_accuracy: 1.0000 - dense_23_accuracy: 1.0000\n",
      "Epoch 51/90\n",
      "2/2 [==============================] - 0s 32ms/step - loss: 0.0459 - time_distributed_12_loss: 0.0458 - dense_23_loss: 2.4497e-05 - time_distributed_12_accuracy: 1.0000 - dense_23_accuracy: 1.0000\n",
      "Epoch 52/90\n",
      "2/2 [==============================] - 0s 24ms/step - loss: 0.0453 - time_distributed_12_loss: 0.0453 - dense_23_loss: 2.4378e-05 - time_distributed_12_accuracy: 1.0000 - dense_23_accuracy: 1.0000\n",
      "Epoch 53/90\n",
      "2/2 [==============================] - 0s 32ms/step - loss: 0.0447 - time_distributed_12_loss: 0.0446 - dense_23_loss: 2.4169e-05 - time_distributed_12_accuracy: 1.0000 - dense_23_accuracy: 1.0000\n",
      "Epoch 54/90\n",
      "2/2 [==============================] - 0s 40ms/step - loss: 0.0441 - time_distributed_12_loss: 0.0440 - dense_23_loss: 2.3901e-05 - time_distributed_12_accuracy: 1.0000 - dense_23_accuracy: 1.0000\n",
      "Epoch 55/90\n",
      "2/2 [==============================] - 0s 24ms/step - loss: 0.0434 - time_distributed_12_loss: 0.0434 - dense_23_loss: 2.3692e-05 - time_distributed_12_accuracy: 1.0000 - dense_23_accuracy: 1.0000\n",
      "Epoch 56/90\n",
      "2/2 [==============================] - 0s 32ms/step - loss: 0.0428 - time_distributed_12_loss: 0.0428 - dense_23_loss: 2.3543e-05 - time_distributed_12_accuracy: 1.0000 - dense_23_accuracy: 1.0000\n",
      "Epoch 57/90\n",
      "2/2 [==============================] - 0s 40ms/step - loss: 0.0424 - time_distributed_12_loss: 0.0424 - dense_23_loss: 2.3424e-05 - time_distributed_12_accuracy: 1.0000 - dense_23_accuracy: 1.0000\n",
      "Epoch 58/90\n",
      "2/2 [==============================] - 0s 40ms/step - loss: 0.0418 - time_distributed_12_loss: 0.0418 - dense_23_loss: 2.3245e-05 - time_distributed_12_accuracy: 1.0000 - dense_23_accuracy: 1.0000\n",
      "Epoch 59/90\n",
      "2/2 [==============================] - 0s 34ms/step - loss: 0.0412 - time_distributed_12_loss: 0.0412 - dense_23_loss: 2.3096e-05 - time_distributed_12_accuracy: 1.0000 - dense_23_accuracy: 1.0000\n",
      "Epoch 60/90\n",
      "2/2 [==============================] - 0s 24ms/step - loss: 0.0406 - time_distributed_12_loss: 0.0406 - dense_23_loss: 2.2888e-05 - time_distributed_12_accuracy: 1.0000 - dense_23_accuracy: 1.0000\n",
      "Epoch 61/90\n",
      "2/2 [==============================] - 0s 32ms/step - loss: 0.0402 - time_distributed_12_loss: 0.0401 - dense_23_loss: 2.2739e-05 - time_distributed_12_accuracy: 1.0000 - dense_23_accuracy: 1.0000\n",
      "Epoch 62/90\n",
      "2/2 [==============================] - 0s 26ms/step - loss: 0.0396 - time_distributed_12_loss: 0.0395 - dense_23_loss: 2.2590e-05 - time_distributed_12_accuracy: 1.0000 - dense_23_accuracy: 1.0000\n",
      "Epoch 63/90\n",
      "2/2 [==============================] - 0s 24ms/step - loss: 0.0391 - time_distributed_12_loss: 0.0391 - dense_23_loss: 2.2411e-05 - time_distributed_12_accuracy: 1.0000 - dense_23_accuracy: 1.0000\n",
      "Epoch 64/90\n",
      "2/2 [==============================] - 0s 24ms/step - loss: 0.0384 - time_distributed_12_loss: 0.0384 - dense_23_loss: 2.2172e-05 - time_distributed_12_accuracy: 1.0000 - dense_23_accuracy: 1.0000\n",
      "Epoch 65/90\n",
      "2/2 [==============================] - 0s 16ms/step - loss: 0.0379 - time_distributed_12_loss: 0.0379 - dense_23_loss: 2.1994e-05 - time_distributed_12_accuracy: 1.0000 - dense_23_accuracy: 1.0000\n",
      "Epoch 66/90\n",
      "2/2 [==============================] - 0s 32ms/step - loss: 0.0375 - time_distributed_12_loss: 0.0375 - dense_23_loss: 2.1904e-05 - time_distributed_12_accuracy: 1.0000 - dense_23_accuracy: 1.0000\n",
      "Epoch 67/90\n",
      "2/2 [==============================] - 0s 24ms/step - loss: 0.0369 - time_distributed_12_loss: 0.0369 - dense_23_loss: 2.1725e-05 - time_distributed_12_accuracy: 1.0000 - dense_23_accuracy: 1.0000\n",
      "Epoch 68/90\n",
      "2/2 [==============================] - 0s 16ms/step - loss: 0.0365 - time_distributed_12_loss: 0.0365 - dense_23_loss: 2.1636e-05 - time_distributed_12_accuracy: 1.0000 - dense_23_accuracy: 1.0000\n",
      "Epoch 69/90\n",
      "2/2 [==============================] - 0s 16ms/step - loss: 0.0360 - time_distributed_12_loss: 0.0360 - dense_23_loss: 2.1517e-05 - time_distributed_12_accuracy: 1.0000 - dense_23_accuracy: 1.0000\n",
      "Epoch 70/90\n",
      "2/2 [==============================] - 0s 16ms/step - loss: 0.0354 - time_distributed_12_loss: 0.0353 - dense_23_loss: 2.1338e-05 - time_distributed_12_accuracy: 1.0000 - dense_23_accuracy: 1.0000\n",
      "Epoch 71/90\n",
      "2/2 [==============================] - 0s 16ms/step - loss: 0.0349 - time_distributed_12_loss: 0.0349 - dense_23_loss: 2.1219e-05 - time_distributed_12_accuracy: 1.0000 - dense_23_accuracy: 1.0000\n",
      "Epoch 72/90\n",
      "2/2 [==============================] - 0s 24ms/step - loss: 0.0344 - time_distributed_12_loss: 0.0344 - dense_23_loss: 2.1070e-05 - time_distributed_12_accuracy: 1.0000 - dense_23_accuracy: 1.0000\n",
      "Epoch 73/90\n",
      "2/2 [==============================] - 0s 24ms/step - loss: 0.0339 - time_distributed_12_loss: 0.0339 - dense_23_loss: 2.0951e-05 - time_distributed_12_accuracy: 1.0000 - dense_23_accuracy: 1.0000\n",
      "Epoch 74/90\n",
      "2/2 [==============================] - 0s 24ms/step - loss: 0.0334 - time_distributed_12_loss: 0.0334 - dense_23_loss: 2.0861e-05 - time_distributed_12_accuracy: 1.0000 - dense_23_accuracy: 1.0000\n",
      "Epoch 75/90\n",
      "2/2 [==============================] - 0s 21ms/step - loss: 0.0329 - time_distributed_12_loss: 0.0329 - dense_23_loss: 2.0712e-05 - time_distributed_12_accuracy: 1.0000 - dense_23_accuracy: 1.0000\n",
      "Epoch 76/90\n",
      "2/2 [==============================] - 0s 32ms/step - loss: 0.0326 - time_distributed_12_loss: 0.0326 - dense_23_loss: 2.0653e-05 - time_distributed_12_accuracy: 1.0000 - dense_23_accuracy: 1.0000\n",
      "Epoch 77/90\n",
      "2/2 [==============================] - 0s 32ms/step - loss: 0.0320 - time_distributed_12_loss: 0.0320 - dense_23_loss: 2.0474e-05 - time_distributed_12_accuracy: 1.0000 - dense_23_accuracy: 1.0000\n",
      "Epoch 78/90\n",
      "2/2 [==============================] - 0s 24ms/step - loss: 0.0317 - time_distributed_12_loss: 0.0316 - dense_23_loss: 2.0384e-05 - time_distributed_12_accuracy: 1.0000 - dense_23_accuracy: 1.0000\n",
      "Epoch 79/90\n"
     ]
    },
    {
     "name": "stdout",
     "output_type": "stream",
     "text": [
      "2/2 [==============================] - 0s 24ms/step - loss: 0.0312 - time_distributed_12_loss: 0.0311 - dense_23_loss: 2.0265e-05 - time_distributed_12_accuracy: 1.0000 - dense_23_accuracy: 1.0000\n",
      "Epoch 80/90\n",
      "2/2 [==============================] - 0s 16ms/step - loss: 0.0307 - time_distributed_12_loss: 0.0307 - dense_23_loss: 2.0146e-05 - time_distributed_12_accuracy: 1.0000 - dense_23_accuracy: 1.0000\n",
      "Epoch 81/90\n",
      "2/2 [==============================] - 0s 24ms/step - loss: 0.0302 - time_distributed_12_loss: 0.0302 - dense_23_loss: 2.0057e-05 - time_distributed_12_accuracy: 1.0000 - dense_23_accuracy: 1.0000\n",
      "Epoch 82/90\n",
      "2/2 [==============================] - 0s 32ms/step - loss: 0.0297 - time_distributed_12_loss: 0.0297 - dense_23_loss: 1.9967e-05 - time_distributed_12_accuracy: 1.0000 - dense_23_accuracy: 1.0000\n",
      "Epoch 83/90\n",
      "2/2 [==============================] - 0s 24ms/step - loss: 0.0292 - time_distributed_12_loss: 0.0292 - dense_23_loss: 1.9788e-05 - time_distributed_12_accuracy: 1.0000 - dense_23_accuracy: 1.0000\n",
      "Epoch 84/90\n",
      "2/2 [==============================] - 0s 32ms/step - loss: 0.0288 - time_distributed_12_loss: 0.0287 - dense_23_loss: 1.9699e-05 - time_distributed_12_accuracy: 1.0000 - dense_23_accuracy: 1.0000\n",
      "Epoch 85/90\n",
      "2/2 [==============================] - 0s 24ms/step - loss: 0.0282 - time_distributed_12_loss: 0.0282 - dense_23_loss: 1.9550e-05 - time_distributed_12_accuracy: 1.0000 - dense_23_accuracy: 1.0000\n",
      "Epoch 86/90\n",
      "2/2 [==============================] - 0s 24ms/step - loss: 0.0279 - time_distributed_12_loss: 0.0279 - dense_23_loss: 1.9490e-05 - time_distributed_12_accuracy: 1.0000 - dense_23_accuracy: 1.0000\n",
      "Epoch 87/90\n",
      "2/2 [==============================] - 0s 24ms/step - loss: 0.0272 - time_distributed_12_loss: 0.0272 - dense_23_loss: 1.9371e-05 - time_distributed_12_accuracy: 1.0000 - dense_23_accuracy: 1.0000\n",
      "Epoch 88/90\n",
      "2/2 [==============================] - 0s 16ms/step - loss: 0.0270 - time_distributed_12_loss: 0.0270 - dense_23_loss: 1.9312e-05 - time_distributed_12_accuracy: 1.0000 - dense_23_accuracy: 1.0000\n",
      "Epoch 89/90\n",
      "2/2 [==============================] - 0s 24ms/step - loss: 0.0265 - time_distributed_12_loss: 0.0265 - dense_23_loss: 1.9222e-05 - time_distributed_12_accuracy: 1.0000 - dense_23_accuracy: 1.0000\n",
      "Epoch 90/90\n",
      "2/2 [==============================] - 0s 24ms/step - loss: 0.0259 - time_distributed_12_loss: 0.0258 - dense_23_loss: 1.9073e-05 - time_distributed_12_accuracy: 1.0000 - dense_23_accuracy: 1.0000\n"
     ]
    },
    {
     "data": {
      "text/plain": [
       "<keras.callbacks.History at 0x2d0ac83ac40>"
      ]
     },
     "execution_count": 119,
     "metadata": {},
     "output_type": "execute_result"
    }
   ],
   "source": [
    "# Train the model\n",
    "model.fit(X_word, [y_ner, y_sentiment], epochs=90, batch_size=2, verbose=1)"
   ]
  },
  {
   "cell_type": "markdown",
   "id": "e3a43c8e",
   "metadata": {},
   "source": [
    "### Make Prediction"
   ]
  },
  {
   "cell_type": "code",
   "execution_count": 120,
   "id": "c9067977",
   "metadata": {},
   "outputs": [
    {
     "name": "stdout",
     "output_type": "stream",
     "text": [
      "1/1 [==============================] - 0s 65ms/step\n",
      "Sample Sentence: Apple is a company based in California.\n",
      "NER Predictions: ['B-ORG', 'O', 'O', 'O', 'O', 'O', 'B-LOC']\n",
      "Sentiment Prediction: 1\n"
     ]
    }
   ],
   "source": [
    "# Make predictions\n",
    "ner_predictions, sentiment_predictions = model.predict(X_word)\n",
    "\n",
    "# Print sample predictions\n",
    "sample_idx = 1\n",
    "sample_sentence = sentences[sample_idx]\n",
    "sample_ner_pred = np.argmax(ner_predictions[sample_idx], axis=-1)\n",
    "sample_sentiment_pred = np.argmax(sentiment_predictions[sample_idx])\n",
    "\n",
    "print(\"Sample Sentence:\", sample_sentence)\n",
    "print(\"NER Predictions:\", [list(ner2idx.keys())[idx] for idx in sample_ner_pred])\n",
    "print(\"Sentiment Prediction:\", sample_sentiment_pred)\n"
   ]
  },
  {
   "cell_type": "code",
   "execution_count": 123,
   "id": "c8706c4c",
   "metadata": {},
   "outputs": [
    {
     "name": "stdout",
     "output_type": "stream",
     "text": [
      "1/1 [==============================] - 0s 72ms/step\n",
      "Sample Sentence: I love my dog.\n",
      "NER Predictions: ['O', 'O', 'O', 'O', 'B-LOC', 'B-LOC', 'B-LOC']\n",
      "Sentiment Prediction: 2\n"
     ]
    }
   ],
   "source": [
    "# Make predictions\n",
    "ner_predictions, sentiment_predictions = model.predict(X_word)\n",
    "\n",
    "# Print sample predictions\n",
    "sample_idx = 2\n",
    "sample_sentence = sentences[sample_idx]\n",
    "sample_ner_pred = np.argmax(ner_predictions[sample_idx], axis=-1)\n",
    "sample_sentiment_pred = np.argmax(sentiment_predictions[sample_idx])\n",
    "\n",
    "print(\"Sample Sentence:\", sample_sentence)\n",
    "print(\"NER Predictions:\", [list(ner2idx.keys())[idx] for idx in sample_ner_pred])\n",
    "print(\"Sentiment Prediction:\", sample_sentiment_pred)\n"
   ]
  },
  {
   "cell_type": "code",
   "execution_count": null,
   "id": "7eaab314",
   "metadata": {},
   "outputs": [],
   "source": []
  }
 ],
 "metadata": {
  "kernelspec": {
   "display_name": "Python 3 (ipykernel)",
   "language": "python",
   "name": "python3"
  },
  "language_info": {
   "codemirror_mode": {
    "name": "ipython",
    "version": 3
   },
   "file_extension": ".py",
   "mimetype": "text/x-python",
   "name": "python",
   "nbconvert_exporter": "python",
   "pygments_lexer": "ipython3",
   "version": "3.9.13"
  }
 },
 "nbformat": 4,
 "nbformat_minor": 5
}
